{
 "cells": [
  {
   "cell_type": "markdown",
   "metadata": {
    "slideshow": {
     "slide_type": "slide"
    }
   },
   "source": [
    "# MNIST digits classification with Keras\n",
    "\n",
    "We don't expect you to code anything here because you've already solved it with TensorFlow.\n",
    "\n",
    "But you can appreciate how simpler it is with Keras.\n",
    "\n",
    "We'll be happy if you play around with the architecture though, there're some tips at the end."
   ]
  },
  {
   "cell_type": "markdown",
   "metadata": {},
   "source": [
    "<img src=\"images/mnist_sample.png\" style=\"width:30%\">"
   ]
  },
  {
   "cell_type": "code",
   "execution_count": 1,
   "metadata": {},
   "outputs": [
    {
     "name": "stdout",
     "output_type": "stream",
     "text": [
      "We're using TF 1.2.1\n"
     ]
    },
    {
     "name": "stderr",
     "output_type": "stream",
     "text": [
      "Using TensorFlow backend.\n"
     ]
    },
    {
     "name": "stdout",
     "output_type": "stream",
     "text": [
      "We are using Keras 2.0.6\n"
     ]
    }
   ],
   "source": [
    "import numpy as np\n",
    "from sklearn.metrics import accuracy_score\n",
    "from matplotlib import pyplot as plt\n",
    "%matplotlib inline\n",
    "import tensorflow as tf\n",
    "print(\"We're using TF\", tf.__version__)\n",
    "import keras\n",
    "print(\"We are using Keras\", keras.__version__)\n",
    "\n",
    "import sys\n",
    "sys.path.append(\"../..\")\n",
    "import keras_utils\n",
    "from keras_utils import reset_tf_session"
   ]
  },
  {
   "cell_type": "markdown",
   "metadata": {},
   "source": [
    "# Look at the data\n",
    "\n",
    "In this task we have 50000 28x28 images of digits from 0 to 9.\n",
    "We will train a classifier on this data."
   ]
  },
  {
   "cell_type": "code",
   "execution_count": 2,
   "metadata": {},
   "outputs": [
    {
     "name": "stdout",
     "output_type": "stream",
     "text": [
      "Downloading data from https://s3.amazonaws.com/img-datasets/mnist.npz\n",
      " 8052736/11490434 [====================>.........] - ETA: 0s"
     ]
    }
   ],
   "source": [
    "import preprocessed_mnist\n",
    "X_train, y_train, X_val, y_val, X_test, y_test = preprocessed_mnist.load_dataset()"
   ]
  },
  {
   "cell_type": "code",
   "execution_count": 3,
   "metadata": {},
   "outputs": [
    {
     "name": "stdout",
     "output_type": "stream",
     "text": [
      "X_train [shape (50000, 28, 28)] sample patch:\n",
      " [[ 0.          0.29803922  0.96470588  0.98823529  0.43921569]\n",
      " [ 0.          0.33333333  0.98823529  0.90196078  0.09803922]\n",
      " [ 0.          0.33333333  0.98823529  0.8745098   0.        ]\n",
      " [ 0.          0.33333333  0.98823529  0.56862745  0.        ]\n",
      " [ 0.          0.3372549   0.99215686  0.88235294  0.        ]]\n",
      "A closeup of a sample patch:\n"
     ]
    },
    {
     "data": {
      "image/png": "[encoded data removed]",
      "text/plain": [
       "<matplotlib.figure.Figure at 0x7fe56f0560b8>"
      ]
     },
     "metadata": {},
     "output_type": "display_data"
    },
    {
     "name": "stdout",
     "output_type": "stream",
     "text": [
      "And the whole sample:\n"
     ]
    },
    {
     "data": {
      "image/png": "[encoded data removed]",
      "text/plain": [
       "<matplotlib.figure.Figure at 0x7fe56efee400>"
      ]
     },
     "metadata": {},
     "output_type": "display_data"
    },
    {
     "name": "stdout",
     "output_type": "stream",
     "text": [
      "y_train [shape (50000,)] 10 samples:\n",
      " [5 0 4 1 9 2 1 3 1 4]\n"
     ]
    }
   ],
   "source": [
    "# X contains rgb values divided by 255\n",
    "print(\"X_train [shape %s] sample patch:\\n\" % (str(X_train.shape)), X_train[1, 15:20, 5:10])\n",
    "print(\"A closeup of a sample patch:\")\n",
    "plt.imshow(X_train[1, 15:20, 5:10], cmap=\"Greys\")\n",
    "plt.show()\n",
    "print(\"And the whole sample:\")\n",
    "plt.imshow(X_train[1], cmap=\"Greys\")\n",
    "plt.show()\n",
    "print(\"y_train [shape %s] 10 samples:\\n\" % (str(y_train.shape)), y_train[:10])"
   ]
  },
  {
   "cell_type": "code",
   "execution_count": 21,
   "metadata": {},
   "outputs": [
    {
     "name": "stdout",
     "output_type": "stream",
     "text": [
      "(50000, 784)\n",
      "(784,)\n",
      "(10000, 784)\n"
     ]
    }
   ],
   "source": [
    "# flatten images\n",
    "X_train_flat = X_train.reshape((X_train.shape[0], -1))\n",
    "print(X_train_flat.shape)\n",
    "print(X_train_flat[0,:].shape)\n",
    "\n",
    "X_val_flat = X_val.reshape((X_val.shape[0], -1))\n",
    "print(X_val_flat.shape)"
   ]
  },
  {
   "cell_type": "code",
   "execution_count": 5,
   "metadata": {},
   "outputs": [
    {
     "name": "stdout",
     "output_type": "stream",
     "text": [
      "(50000, 10)\n",
      "[[ 0.  0.  0.  0.  0.  1.  0.  0.  0.  0.]\n",
      " [ 1.  0.  0.  0.  0.  0.  0.  0.  0.  0.]\n",
      " [ 0.  0.  0.  0.  1.  0.  0.  0.  0.  0.]] [5 0 4]\n"
     ]
    }
   ],
   "source": [
    "# one-hot encode the target\n",
    "y_train_oh = keras.utils.to_categorical(y_train, 10)\n",
    "y_val_oh = keras.utils.to_categorical(y_val, 10)\n",
    "\n",
    "print(y_train_oh.shape)\n",
    "print(y_train_oh[:3], y_train[:3])"
   ]
  },
  {
   "cell_type": "code",
   "execution_count": 6,
   "metadata": {
    "collapsed": true
   },
   "outputs": [],
   "source": [
    "# building a model with keras\n",
    "from keras.layers import Dense, Activation\n",
    "from keras.models import Sequential\n",
    "\n",
    "# we still need to clear a graph though\n",
    "s = reset_tf_session()\n",
    "\n",
    "model = Sequential()  # it is a feed-forward network without loops like in RNN\n",
    "model.add(Dense(256, input_shape=(784,)))  # the first layer must specify the input shape (replacing placeholders)\n",
    "model.add(Activation('sigmoid'))\n",
    "model.add(Dense(256))\n",
    "model.add(Activation('sigmoid'))\n",
    "model.add(Dense(10))\n",
    "model.add(Activation('softmax'))"
   ]
  },
  {
   "cell_type": "code",
   "execution_count": 7,
   "metadata": {},
   "outputs": [
    {
     "name": "stdout",
     "output_type": "stream",
     "text": [
      "_________________________________________________________________\n",
      "Layer (type)                 Output Shape              Param #   \n",
      "=================================================================\n",
      "dense_1 (Dense)              (None, 256)               200960    \n",
      "_________________________________________________________________\n",
      "activation_1 (Activation)    (None, 256)               0         \n",
      "_________________________________________________________________\n",
      "dense_2 (Dense)              (None, 256)               65792     \n",
      "_________________________________________________________________\n",
      "activation_2 (Activation)    (None, 256)               0         \n",
      "_________________________________________________________________\n",
      "dense_3 (Dense)              (None, 10)                2570      \n",
      "_________________________________________________________________\n",
      "activation_3 (Activation)    (None, 10)                0         \n",
      "=================================================================\n",
      "Total params: 269,322\n",
      "Trainable params: 269,322\n",
      "Non-trainable params: 0\n",
      "_________________________________________________________________\n"
     ]
    }
   ],
   "source": [
    "# you can look at all layers and parameter count\n",
    "model.summary()"
   ]
  },
  {
   "cell_type": "code",
   "execution_count": 8,
   "metadata": {
    "collapsed": true
   },
   "outputs": [],
   "source": [
    "# now we \"compile\" the model specifying the loss and optimizer\n",
    "model.compile(\n",
    "    loss='categorical_crossentropy', # this is our cross-entropy\n",
    "    optimizer='adam',\n",
    "    metrics=['accuracy']  # report accuracy during training\n",
    ")"
   ]
  },
  {
   "cell_type": "code",
   "execution_count": 9,
   "metadata": {},
   "outputs": [
    {
     "name": "stdout",
     "output_type": "stream",
     "text": [
      "\n",
      "Epoch 1/40\n",
      "\n",
      "\n",
      "Epoch 2/40\n",
      "\n",
      "\n",
      "Epoch 3/40\n",
      "\n",
      "\n",
      "Epoch 4/40\n",
      "\n",
      "\n",
      "Epoch 5/40\n",
      "\n",
      "\n",
      "Epoch 6/40\n",
      "\n",
      "\n",
      "Epoch 7/40\n",
      "\n",
      "\n",
      "Epoch 8/40\n",
      "\n",
      "\n",
      "Epoch 9/40\n",
      "\n",
      "\n",
      "Epoch 10/40\n",
      "\n",
      "\n",
      "Epoch 11/40\n",
      "\n",
      "\n",
      "Epoch 12/40\n",
      "\n",
      "\n",
      "Epoch 13/40\n",
      "\n",
      "\n",
      "Epoch 14/40\n",
      "\n",
      "\n",
      "Epoch 15/40\n",
      "\n",
      "\n",
      "Epoch 16/40\n",
      "\n",
      "\n",
      "Epoch 17/40\n",
      "\n",
      "\n",
      "Epoch 18/40\n",
      "\n",
      "\n",
      "Epoch 19/40\n",
      "\n",
      "\n",
      "Epoch 20/40\n",
      "\n",
      "\n",
      "Epoch 21/40\n",
      "\n",
      "\n",
      "Epoch 22/40\n",
      "\n",
      "\n",
      "Epoch 23/40\n",
      "\n",
      "\n",
      "Epoch 24/40\n",
      "\n",
      "\n",
      "Epoch 25/40\n",
      "\n",
      "\n",
      "Epoch 26/40\n",
      "\n",
      "\n",
      "Epoch 27/40\n",
      "\n",
      "\n",
      "Epoch 28/40\n",
      "\n",
      "\n",
      "Epoch 29/40\n",
      "\n",
      "\n",
      "Epoch 30/40\n",
      "\n",
      "\n",
      "Epoch 31/40\n",
      "\n",
      "\n",
      "Epoch 32/40\n",
      "\n",
      "\n",
      "Epoch 33/40\n",
      "\n",
      "\n",
      "Epoch 34/40\n",
      "\n",
      "\n",
      "Epoch 35/40\n",
      "\n",
      "\n",
      "Epoch 36/40\n",
      "\n",
      "\n",
      "Epoch 37/40\n",
      "\n",
      "\n",
      "Epoch 38/40\n",
      "\n",
      "\n",
      "Epoch 39/40\n",
      "\n",
      "\n",
      "Epoch 40/40\n",
      "\n"
     ]
    },
    {
     "data": {
      "text/plain": [
       "<keras.callbacks.History at 0x7fe553a817b8>"
      ]
     },
     "execution_count": 9,
     "metadata": {},
     "output_type": "execute_result"
    }
   ],
   "source": [
    "# and now we can fit the model with model.fit()\n",
    "# and we don't have to write loops and batching manually as in TensorFlow\n",
    "model.fit(\n",
    "    X_train_flat, \n",
    "    y_train_oh,\n",
    "    batch_size=512, \n",
    "    epochs=40,\n",
    "    validation_data=(X_val_flat, y_val_oh),\n",
    "    callbacks=[keras_utils.TqdmProgressCallback()],\n",
    "    verbose=0\n",
    ")"
   ]
  },
  {
   "cell_type": "markdown",
   "metadata": {},
   "source": [
    "# Here're the notes for those who want to play around here\n",
    "\n",
    "Here are some tips on what you could do:\n",
    "\n",
    " * __Network size__\n",
    "   * More neurons, \n",
    "   * More layers, ([docs](https://keras.io/))\n",
    "\n",
    "   * Other nonlinearities in the hidden layers\n",
    "     * tanh, relu, leaky relu, etc\n",
    "   * Larger networks may take more epochs to train, so don't discard your net just because it could didn't beat the baseline in 5 epochs.\n",
    "\n",
    "\n",
    " * __Early Stopping__\n",
    "   * Training for 100 epochs regardless of anything is probably a bad idea.\n",
    "   * Some networks converge over 5 epochs, others - over 500.\n",
    "   * Way to go: stop when validation score is 10 iterations past maximum\n",
    "     \n",
    "\n",
    " * __Faster optimization__\n",
    "   * rmsprop, nesterov_momentum, adam, adagrad and so on.\n",
    "     * Converge faster and sometimes reach better optima\n",
    "     * It might make sense to tweak learning rate/momentum, other learning parameters, batch size and number of epochs\n",
    "\n",
    "\n",
    " * __Regularize__ to prevent overfitting\n",
    "   * Add some L2 weight norm to the loss function, theano will do the rest\n",
    "     * Can be done manually or via - https://keras.io/regularizers/\n",
    "   \n",
    "   \n",
    " * __Data augmemntation__ - getting 5x as large dataset for free is a great deal\n",
    "   * https://keras.io/preprocessing/image/\n",
    "   * Zoom-in+slice = move\n",
    "   * Rotate+zoom(to remove black stripes)\n",
    "   * any other perturbations\n",
    "   * Simple way to do that (if you have PIL/Image): \n",
    "     * ```from scipy.misc import imrotate,imresize```\n",
    "     * and a few slicing\n",
    "   * Stay realistic. There's usually no point in flipping dogs upside down as that is not the way you usually see them."
   ]
  },
  {
   "cell_type": "code",
   "execution_count": 118,
   "metadata": {},
   "outputs": [
    {
     "name": "stdout",
     "output_type": "stream",
     "text": [
      "\n",
      "Epoch 1/40\n",
      "\n",
      "\n",
      "Epoch 2/40\n",
      "\n",
      "\n",
      "Epoch 3/40\n",
      "\n",
      "\n",
      "Epoch 4/40\n",
      "\n",
      "\n",
      "Epoch 5/40\n",
      "\n",
      "\n",
      "Epoch 6/40\n",
      "\n",
      "\n",
      "Epoch 7/40\n",
      "\n",
      "\n",
      "Epoch 8/40\n",
      "\n",
      "\n",
      "Epoch 9/40\n",
      "\n",
      "\n",
      "Epoch 10/40\n",
      "\n",
      "\n",
      "Epoch 11/40\n",
      "\n",
      "\n",
      "Epoch 12/40\n",
      "\n",
      "\n",
      "Epoch 13/40\n",
      "\n",
      "\n",
      "Epoch 14/40\n",
      "\n",
      "\n",
      "Epoch 15/40\n",
      "\n",
      "\n",
      "Epoch 16/40\n",
      "\n",
      "\n",
      "Epoch 17/40\n",
      "\n",
      "\n",
      "Epoch 18/40\n",
      "\n",
      "\n",
      "Epoch 19/40\n",
      "\n",
      "\n",
      "Epoch 20/40\n",
      "\n",
      "\n",
      "Epoch 21/40\n",
      "\n",
      "\n",
      "Epoch 22/40\n",
      "\n",
      "\n",
      "Epoch 23/40\n",
      "\n",
      "\n",
      "Epoch 24/40\n",
      "\n",
      "\n",
      "Epoch 25/40\n",
      "\n",
      "\n",
      "Epoch 26/40\n",
      "\n",
      "\n",
      "Epoch 27/40\n",
      "\n",
      "\n",
      "Epoch 28/40\n",
      "\n",
      "\n",
      "Epoch 29/40\n",
      "\n",
      "\n",
      "Epoch 30/40\n",
      "\n",
      "\n",
      "Epoch 31/40\n",
      "\n",
      "\n",
      "Epoch 32/40\n",
      "\n",
      "\n",
      "Epoch 33/40\n",
      "\n",
      "\n",
      "Epoch 34/40\n",
      "\n",
      "\n",
      "Epoch 35/40\n",
      "\n",
      "\n",
      "Epoch 36/40\n",
      "\n",
      "\n",
      "Epoch 37/40\n",
      "\n",
      "\n",
      "Epoch 38/40\n",
      "\n",
      "\n",
      "Epoch 39/40\n",
      "\n",
      "\n",
      "Epoch 40/40\n",
      "\n"
     ]
    },
    {
     "data": {
      "text/plain": [
       "<keras.callbacks.History at 0x7fe51fcb60b8>"
      ]
     },
     "execution_count": 118,
     "metadata": {},
     "output_type": "execute_result"
    }
   ],
   "source": [
    "# Setting with relu\n",
    "s = reset_tf_session()\n",
    "\n",
    "model = Sequential()  # it is a feed-forward network without loops like in RNN\n",
    "model.add(Dense(256, input_shape=(784,)))  # the first layer must specify the input shape (replacing placeholders)\n",
    "model.add(Activation('relu'))\n",
    "model.add(Dense(256))\n",
    "model.add(Activation('relu'))\n",
    "model.add(Dense(10))\n",
    "model.add(Activation('softmax'))\n",
    "# now we \"compile\" the model specifying the loss and optimizer\n",
    "model.compile(\n",
    "    loss='categorical_crossentropy', # this is our cross-entropy\n",
    "    optimizer='adam',\n",
    "    metrics=['accuracy']  # report accuracy during training\n",
    ")\n",
    "\n",
    "# and now we can fit the model with model.fit()\n",
    "# and we don't have to write loops and batching manually as in TensorFlow\n",
    "model.fit(\n",
    "    X_train_flat, \n",
    "    y_train_oh,\n",
    "    batch_size=512, \n",
    "    epochs=40,\n",
    "    validation_data=(X_val_flat, y_val_oh),\n",
    "    callbacks=[keras_utils.TqdmProgressCallback()],\n",
    "    verbose=0\n",
    ")"
   ]
  },
  {
   "cell_type": "code",
   "execution_count": null,
   "metadata": {
    "collapsed": true
   },
   "outputs": [],
   "source": [
    "# starting with l2 regularization and relu\n",
    "s = reset_tf_session()\n",
    "\n",
    "model = Sequential()  # it is a feed-forward network without loops like in RNN\n",
    "model.add(Dense(256, input_shape=(784,), kernel_regularizer=regularizers.l2(0.01)))  # the first layer must specify the input shape (replacing placeholders)\n",
    "model.add(Activation('relu'))\n",
    "model.add(Dense(256, kernel_regularizer=regularizers.l2(0.01)))\n",
    "model.add(Activation('relu'))\n",
    "model.add(Dense(10))\n",
    "model.add(Activation('softmax'))\n",
    "# now we \"compile\" the model specifying the loss and optimizer\n",
    "model.compile(\n",
    "    loss='categorical_crossentropy', # this is our cross-entropy\n",
    "    optimizer='adam',\n",
    "    metrics=['accuracy']  # report accuracy during training\n",
    ")\n",
    "\n",
    "# and now we can fit the model with model.fit()\n",
    "# and we don't have to write loops and batching manually as in TensorFlow\n",
    "model.fit(\n",
    "    X_train_flat, \n",
    "    y_train_oh,\n",
    "    batch_size=512, \n",
    "    epochs=40,\n",
    "    validation_data=(X_val_flat, y_val_oh),\n",
    "    callbacks=[keras_utils.TqdmProgressCallback()],\n",
    "    verbose=0\n",
    ")"
   ]
  },
  {
   "cell_type": "code",
   "execution_count": 72,
   "metadata": {},
   "outputs": [
    {
     "name": "stdout",
     "output_type": "stream",
     "text": [
      "[[  7.76059866e-01   2.66443188e-08   4.57974857e-05   4.10969442e-05\n",
      "    4.27001249e-03   3.09956656e-03   2.43983290e-04   2.08227500e-01\n",
      "    3.22886917e-05   7.97984190e-03]]\n",
      "y =  [0]\n"
     ]
    },
    {
     "data": {
      "image/png": "[encoded data removed]",
      "text/plain": [
       "<matplotlib.figure.Figure at 0x7fe53ccd3550>"
      ]
     },
     "metadata": {},
     "output_type": "display_data"
    }
   ],
   "source": [
    "# augmenting data\n",
    "## START CODE HERE ## (PUT YOUR IMAGE NAME) \n",
    "my_image = \"digit_2.jpg\"   # change this to the name of your image file \n",
    "# We preprocess the image to fit your algorithm.\n",
    "fname = \"images/\" + my_image\n",
    "image = np.array(ndimage.imread(fname, flatten=True))\n",
    "plt.imshow(image)\n",
    "\n",
    "my_image = scipy.misc.imresize(image, size=(28,28)).reshape((1,28*28))\n",
    "my_predicted_image = model.predict(my_image)\n",
    "print(my_predicted_image)\n",
    "print(\"y = \" ,np.argmax(my_predicted_image, axis=1))"
   ]
  },
  {
   "cell_type": "code",
   "execution_count": 86,
   "metadata": {},
   "outputs": [
    {
     "ename": "ValueError",
     "evalue": "Error when checking : expected dense_1_input to have shape (None, 784) but got array with shape (28, 28)",
     "output_type": "error",
     "traceback": [
      "\u001b[0;31m---------------------------------------------------------------------------\u001b[0m",
      "\u001b[0;31mValueError\u001b[0m                                Traceback (most recent call last)",
      "\u001b[0;32m<ipython-input-86-0e1489b8742f>\u001b[0m in \u001b[0;36m<module>\u001b[0;34m()\u001b[0m\n\u001b[1;32m     11\u001b[0m \u001b[0mplt\u001b[0m\u001b[0;34m.\u001b[0m\u001b[0mimshow\u001b[0m\u001b[0;34m(\u001b[0m\u001b[0mmy_image\u001b[0m\u001b[0;34m)\u001b[0m\u001b[0;34m\u001b[0m\u001b[0m\n\u001b[1;32m     12\u001b[0m \u001b[0;34m\u001b[0m\u001b[0m\n\u001b[0;32m---> 13\u001b[0;31m \u001b[0mmy_predicted_image\u001b[0m \u001b[0;34m=\u001b[0m \u001b[0mmodel\u001b[0m\u001b[0;34m.\u001b[0m\u001b[0mpredict\u001b[0m\u001b[0;34m(\u001b[0m\u001b[0mmy_image\u001b[0m\u001b[0;34m)\u001b[0m\u001b[0;34m\u001b[0m\u001b[0m\n\u001b[0m\u001b[1;32m     14\u001b[0m \u001b[0mprint\u001b[0m\u001b[0;34m(\u001b[0m\u001b[0mmy_predicted_image\u001b[0m\u001b[0;34m)\u001b[0m\u001b[0;34m\u001b[0m\u001b[0m\n\u001b[1;32m     15\u001b[0m \u001b[0mprint\u001b[0m\u001b[0;34m(\u001b[0m\u001b[0;34m\"y = \"\u001b[0m \u001b[0;34m,\u001b[0m\u001b[0mnp\u001b[0m\u001b[0;34m.\u001b[0m\u001b[0margmax\u001b[0m\u001b[0;34m(\u001b[0m\u001b[0mmy_predicted_image\u001b[0m\u001b[0;34m,\u001b[0m \u001b[0maxis\u001b[0m\u001b[0;34m=\u001b[0m\u001b[0;36m1\u001b[0m\u001b[0;34m)\u001b[0m\u001b[0;34m)\u001b[0m\u001b[0;34m\u001b[0m\u001b[0m\n",
      "\u001b[0;32m/opt/conda/lib/python3.6/site-packages/keras/models.py\u001b[0m in \u001b[0;36mpredict\u001b[0;34m(self, x, batch_size, verbose)\u001b[0m\n\u001b[1;32m    907\u001b[0m         \u001b[0;32mif\u001b[0m \u001b[0mself\u001b[0m\u001b[0;34m.\u001b[0m\u001b[0mmodel\u001b[0m \u001b[0;32mis\u001b[0m \u001b[0;32mNone\u001b[0m\u001b[0;34m:\u001b[0m\u001b[0;34m\u001b[0m\u001b[0m\n\u001b[1;32m    908\u001b[0m             \u001b[0mself\u001b[0m\u001b[0;34m.\u001b[0m\u001b[0mbuild\u001b[0m\u001b[0;34m(\u001b[0m\u001b[0;34m)\u001b[0m\u001b[0;34m\u001b[0m\u001b[0m\n\u001b[0;32m--> 909\u001b[0;31m         \u001b[0;32mreturn\u001b[0m \u001b[0mself\u001b[0m\u001b[0;34m.\u001b[0m\u001b[0mmodel\u001b[0m\u001b[0;34m.\u001b[0m\u001b[0mpredict\u001b[0m\u001b[0;34m(\u001b[0m\u001b[0mx\u001b[0m\u001b[0;34m,\u001b[0m \u001b[0mbatch_size\u001b[0m\u001b[0;34m=\u001b[0m\u001b[0mbatch_size\u001b[0m\u001b[0;34m,\u001b[0m \u001b[0mverbose\u001b[0m\u001b[0;34m=\u001b[0m\u001b[0mverbose\u001b[0m\u001b[0;34m)\u001b[0m\u001b[0;34m\u001b[0m\u001b[0m\n\u001b[0m\u001b[1;32m    910\u001b[0m \u001b[0;34m\u001b[0m\u001b[0m\n\u001b[1;32m    911\u001b[0m     \u001b[0;32mdef\u001b[0m \u001b[0mpredict_on_batch\u001b[0m\u001b[0;34m(\u001b[0m\u001b[0mself\u001b[0m\u001b[0;34m,\u001b[0m \u001b[0mx\u001b[0m\u001b[0;34m)\u001b[0m\u001b[0;34m:\u001b[0m\u001b[0;34m\u001b[0m\u001b[0m\n",
      "\u001b[0;32m/opt/conda/lib/python3.6/site-packages/keras/engine/training.py\u001b[0m in \u001b[0;36mpredict\u001b[0;34m(self, x, batch_size, verbose)\u001b[0m\n\u001b[1;32m   1497\u001b[0m         x = _standardize_input_data(x, self._feed_input_names,\n\u001b[1;32m   1498\u001b[0m                                     \u001b[0mself\u001b[0m\u001b[0;34m.\u001b[0m\u001b[0m_feed_input_shapes\u001b[0m\u001b[0;34m,\u001b[0m\u001b[0;34m\u001b[0m\u001b[0m\n\u001b[0;32m-> 1499\u001b[0;31m                                     check_batch_axis=False)\n\u001b[0m\u001b[1;32m   1500\u001b[0m         \u001b[0;32mif\u001b[0m \u001b[0mself\u001b[0m\u001b[0;34m.\u001b[0m\u001b[0mstateful\u001b[0m\u001b[0;34m:\u001b[0m\u001b[0;34m\u001b[0m\u001b[0m\n\u001b[1;32m   1501\u001b[0m             \u001b[0;32mif\u001b[0m \u001b[0mx\u001b[0m\u001b[0;34m[\u001b[0m\u001b[0;36m0\u001b[0m\u001b[0;34m]\u001b[0m\u001b[0;34m.\u001b[0m\u001b[0mshape\u001b[0m\u001b[0;34m[\u001b[0m\u001b[0;36m0\u001b[0m\u001b[0;34m]\u001b[0m \u001b[0;34m>\u001b[0m \u001b[0mbatch_size\u001b[0m \u001b[0;32mand\u001b[0m \u001b[0mx\u001b[0m\u001b[0;34m[\u001b[0m\u001b[0;36m0\u001b[0m\u001b[0;34m]\u001b[0m\u001b[0;34m.\u001b[0m\u001b[0mshape\u001b[0m\u001b[0;34m[\u001b[0m\u001b[0;36m0\u001b[0m\u001b[0;34m]\u001b[0m \u001b[0;34m%\u001b[0m \u001b[0mbatch_size\u001b[0m \u001b[0;34m!=\u001b[0m \u001b[0;36m0\u001b[0m\u001b[0;34m:\u001b[0m\u001b[0;34m\u001b[0m\u001b[0m\n",
      "\u001b[0;32m/opt/conda/lib/python3.6/site-packages/keras/engine/training.py\u001b[0m in \u001b[0;36m_standardize_input_data\u001b[0;34m(data, names, shapes, check_batch_axis, exception_prefix)\u001b[0m\n\u001b[1;32m    138\u001b[0m                             \u001b[0;34m' to have shape '\u001b[0m \u001b[0;34m+\u001b[0m \u001b[0mstr\u001b[0m\u001b[0;34m(\u001b[0m\u001b[0mshapes\u001b[0m\u001b[0;34m[\u001b[0m\u001b[0mi\u001b[0m\u001b[0;34m]\u001b[0m\u001b[0;34m)\u001b[0m \u001b[0;34m+\u001b[0m\u001b[0;34m\u001b[0m\u001b[0m\n\u001b[1;32m    139\u001b[0m                             \u001b[0;34m' but got array with shape '\u001b[0m \u001b[0;34m+\u001b[0m\u001b[0;34m\u001b[0m\u001b[0m\n\u001b[0;32m--> 140\u001b[0;31m                             str(array.shape))\n\u001b[0m\u001b[1;32m    141\u001b[0m     \u001b[0;32mreturn\u001b[0m \u001b[0marrays\u001b[0m\u001b[0;34m\u001b[0m\u001b[0m\n\u001b[1;32m    142\u001b[0m \u001b[0;34m\u001b[0m\u001b[0m\n",
      "\u001b[0;31mValueError\u001b[0m: Error when checking : expected dense_1_input to have shape (None, 784) but got array with shape (28, 28)"
     ]
    },
    {
     "data": {
      "image/png": "[encoded data removed]",
      "text/plain": [
       "<matplotlib.figure.Figure at 0x7fe51c1eceb8>"
      ]
     },
     "metadata": {},
     "output_type": "display_data"
    }
   ],
   "source": [
    "import cv2\n",
    "im_gray = cv2.imread('images/digit_2.jpg', cv2.IMREAD_GRAYSCALE)\n",
    "thresh = 127\n",
    "im_bw = cv2.threshold(im_gray, thresh, 255, cv2.THRESH_BINARY)[1]\n",
    "cv2.imwrite('blackwhite.png', im_bw)\n",
    "\n",
    "fname = cv2.imread('blackwhite.png', cv2.IMREAD_GRAYSCALE)\n",
    "\n",
    "\n",
    "my_image = scipy.misc.imresize(fname, size=(28,28))\n",
    "plt.imshow(my_image)\n",
    "\n",
    "my_predicted_image = model.predict(my_image)\n",
    "print(my_predicted_image)\n",
    "print(\"y = \" ,np.argmax(my_predicted_image, axis=1))"
   ]
  },
  {
   "cell_type": "code",
   "execution_count": 34,
   "metadata": {
    "collapsed": true
   },
   "outputs": [],
   "source": [
    "from scipy import ndimage\n",
    "import scipy\n",
    "import cv2\n"
   ]
  },
  {
   "cell_type": "code",
   "execution_count": 122,
   "metadata": {},
   "outputs": [
    {
     "ename": "TypeError",
     "evalue": "loadImages() takes 0 positional arguments but 1 was given",
     "output_type": "error",
     "traceback": [
      "\u001b[0;31m---------------------------------------------------------------------------\u001b[0m",
      "\u001b[0;31mTypeError\u001b[0m                                 Traceback (most recent call last)",
      "\u001b[0;32m<ipython-input-122-fb787bf3d2d7>\u001b[0m in \u001b[0;36m<module>\u001b[0;34m()\u001b[0m\n\u001b[1;32m     54\u001b[0m     \u001b[0mshifted\u001b[0m \u001b[0;34m=\u001b[0m \u001b[0mcv2\u001b[0m\u001b[0;34m.\u001b[0m\u001b[0mwarpAffine\u001b[0m\u001b[0;34m(\u001b[0m\u001b[0mimg\u001b[0m\u001b[0;34m,\u001b[0m\u001b[0mM\u001b[0m\u001b[0;34m,\u001b[0m\u001b[0;34m(\u001b[0m\u001b[0mcols\u001b[0m\u001b[0;34m,\u001b[0m\u001b[0mrows\u001b[0m\u001b[0;34m)\u001b[0m\u001b[0;34m)\u001b[0m\u001b[0;34m\u001b[0m\u001b[0m\n\u001b[1;32m     55\u001b[0m     \u001b[0;32mreturn\u001b[0m \u001b[0mshifted\u001b[0m\u001b[0;34m\u001b[0m\u001b[0m\n\u001b[0;32m---> 56\u001b[0;31m \u001b[0mimgs\u001b[0m \u001b[0;34m=\u001b[0m \u001b[0mloadImages\u001b[0m\u001b[0;34m(\u001b[0m\u001b[0mpath\u001b[0m\u001b[0;34m)\u001b[0m\u001b[0;34m\u001b[0m\u001b[0m\n\u001b[0m\u001b[1;32m     57\u001b[0m \u001b[0mrgb\u001b[0m\u001b[0;34m=\u001b[0m\u001b[0mnp\u001b[0m\u001b[0;34m.\u001b[0m\u001b[0marray\u001b[0m\u001b[0;34m(\u001b[0m\u001b[0mimgs\u001b[0m\u001b[0;34m)\u001b[0m\u001b[0;34m\u001b[0m\u001b[0m\n",
      "\u001b[0;31mTypeError\u001b[0m: loadImages() takes 0 positional arguments but 1 was given"
     ]
    }
   ],
   "source": [
    "import cv2\n",
    "from os import listdir\n",
    "from os.path import isfile, join\n",
    "import numpy as np\n",
    "from PIL import Image\n",
    "from scipy import ndimage\n",
    "import math\n",
    "def loadImages():\n",
    "\n",
    "    loadedImages = []\n",
    "    for image in [\"images/digit_2.jpg\"]:\n",
    "        gray = cv2.imread(image, cv2.IMREAD_GRAYSCALE)\n",
    "        gray = cv2.resize(255-gray, (28, 28))\n",
    "        (thresh, gray) = cv2.threshold(gray, 128, 255, cv2.THRESH_BINARY | cv2.THRESH_OTSU)\n",
    "        while np.sum(gray[0]) == 0:\n",
    "            gray = gray[1:]\n",
    "        while np.sum(gray[:,0]) == 0:\n",
    "            gray = np.delete(gray,0,1)\n",
    "        while np.sum(gray[-1]) == 0:\n",
    "            gray = gray[:-1]\n",
    "        while np.sum(gray[:,-1]) == 0:\n",
    "            gray = np.delete(gray,-1,1)\n",
    "        rows,cols = gray.shape\n",
    "        if rows > cols:\n",
    "            factor = 20.0/rows\n",
    "            rows = 20\n",
    "            cols = int(round(cols*factor))\n",
    "            gray = cv2.resize(gray, (cols,rows))\n",
    "        else:\n",
    "            factor = 20.0/cols\n",
    "            cols = 20\n",
    "            rows = int(round(rows*factor))\n",
    "            gray = cv2.resize(gray, (cols, rows))\n",
    "        colsPadding = (int(math.ceil((28-cols)/2.0)),int(math.floor((28-cols)/2.0)))\n",
    "        rowsPadding = (int(math.ceil((28-rows)/2.0)),int(math.floor((28-rows)/2.0)))\n",
    "        gray = np.lib.pad(gray,(rowsPadding,colsPadding),'constant')\n",
    "        shiftx,shifty = getBestShift(gray)\n",
    "        shifted = shift(gray,shiftx,shifty)\n",
    "        gray = shifted\n",
    "        loadedImages.append(gray)\n",
    "    return loadedImages\n",
    "\n",
    "def getBestShift(img):\n",
    "    cy,cx = ndimage.measurements.center_of_mass(img)\n",
    "    rows,cols = img.shape\n",
    "    shiftx = np.round(cols/2.0-cx).astype(int)\n",
    "    shifty = np.round(rows/2.0-cy).astype(int)\n",
    "    return shiftx,shifty\n",
    "path = 'images/'\n",
    "\n",
    "def shift(img,sx,sy):\n",
    "    rows,cols = img.shape\n",
    "    M = np.float32([[1,0,sx],[0,1,sy]])\n",
    "    shifted = cv2.warpAffine(img,M,(cols,rows))\n",
    "    return shifted\n",
    "imgs = loadImages(path)\n",
    "rgb=np.array(imgs)"
   ]
  },
  {
   "cell_type": "code",
   "execution_count": 123,
   "metadata": {},
   "outputs": [
    {
     "data": {
      "text/plain": [
       "(1, 784)"
      ]
     },
     "execution_count": 123,
     "metadata": {},
     "output_type": "execute_result"
    }
   ],
   "source": [
    "my_img_final=np.asarray(loadImages())\n",
    "my_img_final=my_img.reshape((my_img.shape[0], -1))\n",
    "np.shape(my_img)"
   ]
  },
  {
   "cell_type": "code",
   "execution_count": 124,
   "metadata": {},
   "outputs": [
    {
     "name": "stdout",
     "output_type": "stream",
     "text": [
      "[[ 1.  0.  0.  0.  0.  0.  0.  0.  0.  0.]]\n",
      "y =  [0]\n"
     ]
    }
   ],
   "source": [
    "my_predicted_image = model.predict(my_img_final)\n",
    "print(my_predicted_image)\n",
    "print(\"y = \" ,np.argmax(my_predicted_image, axis=1))"
   ]
  },
  {
   "cell_type": "code",
   "execution_count": null,
   "metadata": {
    "collapsed": true
   },
   "outputs": [],
   "source": []
  }
 ],
 "metadata": {
  "kernelspec": {
   "display_name": "Python 3",
   "language": "python",
   "name": "python3"
  },
  "language_info": {
   "codemirror_mode": {
    "name": "ipython",
    "version": 3
   },
   "file_extension": ".py",
   "mimetype": "text/x-python",
   "name": "python",
   "nbconvert_exporter": "python",
   "pygments_lexer": "ipython3",
   "version": "3.6.0"
  },
  "widgets": {
   "state": {
    "0088fc1c39424326a369a34d55e93e4c": {
     "views": [
      {
       "cell_index": 11
      }
     ]
    },
    "01d745964d9644329a9e75ef2bd1b117": {
     "views": [
      {
       "cell_index": 11
      }
     ]
    },
    "04ef1de0b7ff40b6a3b5136d6e848622": {
     "views": [
      {
       "cell_index": 13
      }
     ]
    },
    "0523434d1b674325802162ba514eedad": {
     "views": [
      {
       "cell_index": 14
      }
     ]
    },
    "07e9e61c653c403794a278534a007b52": {
     "views": [
      {
       "cell_index": 13
      }
     ]
    },
    "084594fa9aec413bb1aeea7c22621c74": {
     "views": [
      {
       "cell_index": 14
      }
     ]
    },
    "088c54ff1b024efea1beb73f4d6ab7d6": {
     "views": [
      {
       "cell_index": 13
      }
     ]
    },
    "08fa845171cc40709f29c13e613688fa": {
     "views": [
      {
       "cell_index": 11
      }
     ]
    },
    "0930638b928644dd86ca356c9cfd76c7": {
     "views": [
      {
       "cell_index": 13
      }
     ]
    },
    "0fc557f975af46698b9c4c22a783f5eb": {
     "views": [
      {
       "cell_index": 11
      }
     ]
    },
    "0ff798adfe244a449e9ae2d6ce9d6189": {
     "views": [
      {
       "cell_index": 13
      }
     ]
    },
    "1001aca5a2194f6aa9810e97ed0fbe81": {
     "views": [
      {
       "cell_index": 11
      }
     ]
    },
    "102da263016346b5a81918d7dc7eaa5e": {
     "views": [
      {
       "cell_index": 13
      }
     ]
    },
    "10500d03662448fb819f187baf7e19f7": {
     "views": [
      {
       "cell_index": 13
      }
     ]
    },
    "1080306ee8594f288b051323e7130434": {
     "views": [
      {
       "cell_index": 11
      }
     ]
    },
    "111db6690abe4466bbb4c05fd54278e6": {
     "views": [
      {
       "cell_index": 13
      }
     ]
    },
    "13fd86b89351468c8e54df5d70e109f5": {
     "views": [
      {
       "cell_index": 14
      }
     ]
    },
    "14fba2701a564c859f28d2a550f1c2f6": {
     "views": [
      {
       "cell_index": 13
      }
     ]
    },
    "15d1178da98b45f99a7fbc254f0ddf30": {
     "views": [
      {
       "cell_index": 13
      }
     ]
    },
    "1aa88169ab0e47c7bd9d1bcc2187b845": {
     "views": [
      {
       "cell_index": 13
      }
     ]
    },
    "1adebfa524424243a5c00e2ec58a4908": {
     "views": [
      {
       "cell_index": 11
      }
     ]
    },
    "1b61317073434d02b52d1270f827811f": {
     "views": [
      {
       "cell_index": 14
      }
     ]
    },
    "1c0c6ce3974f4b8f97dfd77405e48ffc": {
     "views": [
      {
       "cell_index": 11
      }
     ]
    },
    "1db144d421174267b62a9ece7ed33859": {
     "views": [
      {
       "cell_index": 11
      }
     ]
    },
    "1ddd15c7d8134f1087f052ee8294c745": {
     "views": [
      {
       "cell_index": 11
      }
     ]
    },
    "1de39451c33f48189b18db7d9e8275a8": {
     "views": [
      {
       "cell_index": 11
      }
     ]
    },
    "1e7eee580b9c4ce88ee3732d9317ecd1": {
     "views": [
      {
       "cell_index": 11
      }
     ]
    },
    "1e9db46619384d9f9aeda321ac3f866e": {
     "views": [
      {
       "cell_index": 11
      }
     ]
    },
    "285dda42d8644c9aad758ea6344d688b": {
     "views": [
      {
       "cell_index": 14
      }
     ]
    },
    "2a2df86237764d5495b71955012f4666": {
     "views": [
      {
       "cell_index": 14
      }
     ]
    },
    "2ac0b6e5ee104ddfa8cbfa5b6d4ee7c0": {
     "views": [
      {
       "cell_index": 11
      }
     ]
    },
    "2cac1f60539b418697ea86425e5e2a3b": {
     "views": [
      {
       "cell_index": 11
      }
     ]
    },
    "2f2b5999727845d39cfada99390a5b1e": {
     "views": [
      {
       "cell_index": 11
      }
     ]
    },
    "2f35b9166e854617b746f2684b1257af": {
     "views": [
      {
       "cell_index": 14
      }
     ]
    },
    "2f3b5605928d410c8813758a9c2cf3f6": {
     "views": [
      {
       "cell_index": 13
      }
     ]
    },
    "2fa619e0b8e64bed83651964949dbddd": {
     "views": [
      {
       "cell_index": 13
      }
     ]
    },
    "30290c18206b4dc1afafbcc3603aa64d": {
     "views": [
      {
       "cell_index": 13
      }
     ]
    },
    "33ca822f56464e9ebc676bba38c7cd1f": {
     "views": [
      {
       "cell_index": 13
      }
     ]
    },
    "361ad37186c64132b7a7445c134a31ac": {
     "views": [
      {
       "cell_index": 11
      }
     ]
    },
    "365626c03aec424e84d7bbc890e40ec5": {
     "views": [
      {
       "cell_index": 13
      }
     ]
    },
    "36915d2a846a4936b95bfba5d8ef55dd": {
     "views": [
      {
       "cell_index": 13
      }
     ]
    },
    "3813584d219e452f8b7301158fa0632d": {
     "views": [
      {
       "cell_index": 13
      }
     ]
    },
    "3963dc4ce2bc46f6975fd2662157cc4e": {
     "views": [
      {
       "cell_index": 14
      }
     ]
    },
    "416a5587c82749fab6cd9e9bb9571117": {
     "views": [
      {
       "cell_index": 13
      }
     ]
    },
    "43b11d60cfb54a879b4a56d6f15067fd": {
     "views": [
      {
       "cell_index": 11
      }
     ]
    },
    "44dca41a0ab6421b956540a247209bfd": {
     "views": [
      {
       "cell_index": 13
      }
     ]
    },
    "456c658dff6943278717892485834b13": {
     "views": [
      {
       "cell_index": 11
      }
     ]
    },
    "45c385434f2d4ecdb15e5abbfee4b97c": {
     "views": [
      {
       "cell_index": 11
      }
     ]
    },
    "4c1a3700a3ff41c2a0c8363c5418dc35": {
     "views": [
      {
       "cell_index": 11
      }
     ]
    },
    "4d0c77b39790445f9e7e571745bc7186": {
     "views": [
      {
       "cell_index": 14
      }
     ]
    },
    "53269996d99a4be8a7bd436c1ecfb99e": {
     "views": [
      {
       "cell_index": 13
      }
     ]
    },
    "53bd5ab01e0241cd960dc79ff398ae51": {
     "views": [
      {
       "cell_index": 11
      }
     ]
    },
    "5b86e26f2a4048a1b13444e94b6abc2c": {
     "views": [
      {
       "cell_index": 13
      }
     ]
    },
    "5bde23480b4d40e185735941c695eec0": {
     "views": [
      {
       "cell_index": 14
      }
     ]
    },
    "5bff5e42bd914cc9a9cbf04138d5ea7e": {
     "views": [
      {
       "cell_index": 13
      }
     ]
    },
    "5c86f5081dc94633bc02914b3cdb8681": {
     "views": [
      {
       "cell_index": 11
      }
     ]
    },
    "5e87a7483aed4cf9ad0c91997ff384e1": {
     "views": [
      {
       "cell_index": 13
      }
     ]
    },
    "5eb1475f29af4d049451955b15ad44c1": {
     "views": [
      {
       "cell_index": 11
      }
     ]
    },
    "606313c1061f4637a35fdc89e154e8c0": {
     "views": [
      {
       "cell_index": 13
      }
     ]
    },
    "613fce0a47254a4c80c32dddab5f013b": {
     "views": [
      {
       "cell_index": 14
      }
     ]
    },
    "6164c1b22069477f9025d50e2062fa77": {
     "views": [
      {
       "cell_index": 13
      }
     ]
    },
    "6523ef04bd3341f2b2d78486f44112d0": {
     "views": [
      {
       "cell_index": 11
      }
     ]
    },
    "669c59d645dc4bd59a20411e92502b1f": {
     "views": [
      {
       "cell_index": 13
      }
     ]
    },
    "67e018a247614fb199636d6e2a65142b": {
     "views": [
      {
       "cell_index": 13
      }
     ]
    },
    "67e32f059cde4022aa0aa4fd7b2760f3": {
     "views": [
      {
       "cell_index": 13
      }
     ]
    },
    "693bdf697ef54de689ac1d46805caf96": {
     "views": [
      {
       "cell_index": 14
      }
     ]
    },
    "6ea2a00c1be44f799c3e9939eb86041f": {
     "views": [
      {
       "cell_index": 13
      }
     ]
    },
    "71adde1c4e054feeb36e8e81171f1db8": {
     "views": [
      {
       "cell_index": 11
      }
     ]
    },
    "741012e4a8194f8eb3716410e6a28783": {
     "views": [
      {
       "cell_index": 14
      }
     ]
    },
    "7434a55361b1409eba450b44b9934fad": {
     "views": [
      {
       "cell_index": 14
      }
     ]
    },
    "76713cccc5044aa087ea2b90e386a242": {
     "views": [
      {
       "cell_index": 11
      }
     ]
    },
    "7870917e2d9e40839c3787a5c272ce9e": {
     "views": [
      {
       "cell_index": 11
      }
     ]
    },
    "79466ef8501a4fa5a9e7507f92942c6c": {
     "views": [
      {
       "cell_index": 14
      }
     ]
    },
    "7e5665376b6f4ef3885c9691add1dcc1": {
     "views": [
      {
       "cell_index": 14
      }
     ]
    },
    "81a14b3c8a2c422d944cdd5cebfc38d2": {
     "views": [
      {
       "cell_index": 13
      }
     ]
    },
    "81ac9ed806c546e58c75b45192c5dc66": {
     "views": [
      {
       "cell_index": 13
      }
     ]
    },
    "81db4dbe0f154d0d81073bbf777c9977": {
     "views": [
      {
       "cell_index": 13
      }
     ]
    },
    "843a93d24df1422c93f51ee88b5f5f9f": {
     "views": [
      {
       "cell_index": 13
      }
     ]
    },
    "88c0d945faf844be832498b9472dd37a": {
     "views": [
      {
       "cell_index": 11
      }
     ]
    },
    "92ba2719643e4fa8a3d022463902bf03": {
     "views": [
      {
       "cell_index": 13
      }
     ]
    },
    "971eaf38ba0e433eb5ab776ba5fa9edc": {
     "views": [
      {
       "cell_index": 13
      }
     ]
    },
    "98d971052f0c4414a9158ebdeab4b735": {
     "views": [
      {
       "cell_index": 13
      }
     ]
    },
    "9931ac064bb849629653dec0572e908c": {
     "views": [
      {
       "cell_index": 11
      }
     ]
    },
    "9b6d0bd2b3614d65bb42417166245a25": {
     "views": [
      {
       "cell_index": 13
      }
     ]
    },
    "9d7c2b4a5d42430391cd758ab5be153b": {
     "views": [
      {
       "cell_index": 11
      }
     ]
    },
    "a05d7fb66dac4e058aeb9b816e1f0509": {
     "views": [
      {
       "cell_index": 11
      }
     ]
    },
    "a27d28ff034f4ac59ec0d20aeda0c6cc": {
     "views": [
      {
       "cell_index": 13
      }
     ]
    },
    "a485526c2cf7438fbd2c637cecf02b5a": {
     "views": [
      {
       "cell_index": 11
      }
     ]
    },
    "a4aba75587414649b9fbfade5c881755": {
     "views": [
      {
       "cell_index": 14
      }
     ]
    },
    "a7866fdc3c1440df8231cdd7eee44ade": {
     "views": [
      {
       "cell_index": 13
      }
     ]
    },
    "a7a37fd6d0634ed8b742403b8c2b15f5": {
     "views": [
      {
       "cell_index": 14
      }
     ]
    },
    "ae9bd07dc6c94e3291aca6b8867266c8": {
     "views": [
      {
       "cell_index": 13
      }
     ]
    },
    "b01b5c6155174046bee1f10b5bca2032": {
     "views": [
      {
       "cell_index": 14
      }
     ]
    },
    "b2eb841975c849bcacdcf46d76441dfd": {
     "views": [
      {
       "cell_index": 13
      }
     ]
    },
    "b524461020954b24ab118edd40c2a407": {
     "views": [
      {
       "cell_index": 14
      }
     ]
    },
    "b9741f93a5ae465aaca7ca92ec598c11": {
     "views": [
      {
       "cell_index": 11
      }
     ]
    },
    "b9e6a35c3b81480db41ff98a2121d87a": {
     "views": [
      {
       "cell_index": 13
      }
     ]
    },
    "bcb4b029717242fd806d2bcfd6c3af8a": {
     "views": [
      {
       "cell_index": 13
      }
     ]
    },
    "bf84223b8e5548259b0f1090c6d8d025": {
     "views": [
      {
       "cell_index": 13
      }
     ]
    },
    "c375af17c6394ba08877f7dde5c4239b": {
     "views": [
      {
       "cell_index": 13
      }
     ]
    },
    "c3d14440fcd1489baac0137088c17c82": {
     "views": [
      {
       "cell_index": 11
      }
     ]
    },
    "c75378fec67844c996e05a9035863e38": {
     "views": [
      {
       "cell_index": 13
      }
     ]
    },
    "c9a41b103a5c4915b079c60db724c607": {
     "views": [
      {
       "cell_index": 11
      }
     ]
    },
    "cae080b313194645b540b2374b6a7452": {
     "views": [
      {
       "cell_index": 13
      }
     ]
    },
    "cb9d9ca797da470980f0fa4add299c9f": {
     "views": [
      {
       "cell_index": 13
      }
     ]
    },
    "d2498c05529f498abea28517c1b9d987": {
     "views": [
      {
       "cell_index": 13
      }
     ]
    },
    "d27050fa3fe04b6094f636ab66c8d513": {
     "views": [
      {
       "cell_index": 13
      }
     ]
    },
    "d457b8a3144d43a687ff13fd1d4e1045": {
     "views": [
      {
       "cell_index": 11
      }
     ]
    },
    "d9fd5f4031504ea5bae76c16998fe636": {
     "views": [
      {
       "cell_index": 13
      }
     ]
    },
    "dc0f4bf115c04bf4893fefbfb9197ee6": {
     "views": [
      {
       "cell_index": 13
      }
     ]
    },
    "dcc0fa4c1f494df7852662169e25d5a8": {
     "views": [
      {
       "cell_index": 13
      }
     ]
    },
    "e700df43bf184c9dadcbed638467b33e": {
     "views": [
      {
       "cell_index": 13
      }
     ]
    },
    "e8928dd5adec4508b662020101bb8513": {
     "views": [
      {
       "cell_index": 11
      }
     ]
    },
    "ee3828d36a08467193c846b20fcd114f": {
     "views": [
      {
       "cell_index": 13
      }
     ]
    },
    "f06ebe5ca7c249178b5f3e4395c808cf": {
     "views": [
      {
       "cell_index": 13
      }
     ]
    },
    "f47cd42c58b241cfba847668d2d44f65": {
     "views": [
      {
       "cell_index": 11
      }
     ]
    },
    "f6f6e7bd48624f3aae06765070cdbb56": {
     "views": [
      {
       "cell_index": 13
      }
     ]
    },
    "f94cb9bb9c6f4071959ce1376aaee80b": {
     "views": [
      {
       "cell_index": 11
      }
     ]
    },
    "fb7e375d66ea4747a74c46a19587bd58": {
     "views": [
      {
       "cell_index": 13
      }
     ]
    },
    "fc13be44a9b3497ab0661b26dae2265f": {
     "views": [
      {
       "cell_index": 13
      }
     ]
    }
   },
   "version": "1.2.0"
  }
 },
 "nbformat": 4,
 "nbformat_minor": 1
}
